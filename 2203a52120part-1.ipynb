{
  "nbformat": 4,
  "nbformat_minor": 0,
  "metadata": {
    "colab": {
      "provenance": []
    },
    "kernelspec": {
      "name": "python3",
      "display_name": "Python 3"
    },
    "language_info": {
      "name": "python"
    }
  },
  "cells": [
    {
      "cell_type": "code",
      "execution_count": 11,
      "metadata": {
        "colab": {
          "base_uri": "https://localhost:8080/"
        },
        "id": "IfbA575YFC4g",
        "outputId": "f52a8cf8-20fa-4bdb-feda-c55f5bb20d04"
      },
      "outputs": [
        {
          "output_type": "stream",
          "name": "stdout",
          "text": [
            "list= [1, 2, 3]\n",
            "array= [1 2 3]\n",
            "type= <class 'list'>\n",
            "type= <class 'numpy.ndarray'>\n"
          ]
        }
      ],
      "source": [
        "#python libraries and packages\n",
        "import numpy as np\n",
        "list1=[1,2,3]\n",
        "array1=np.array(list1)\n",
        "print(\"list=\",list1)\n",
        "print(\"array=\",array1)\n",
        "print(\"type=\",type(list1))\n",
        "print(\"type=\",type(array1))"
      ]
    },
    {
      "cell_type": "code",
      "source": [
        "import numpy as np\n",
        "array1=[1,2,3,4,5]\n",
        "array2=[1,2,3,4,5]\n",
        "\n",
        "\n",
        "array1 = np.array([1, 2, 3, 4, 5])\n",
        "array2 = np.array([1, 2, 3, 4, 5])\n",
        "\n",
        "# Element-wise multiplication\n",
        "result_multiply = np.multiply(array1, array2)\n",
        "print(\"Element-wise multiplication result:\", result_multiply)\n",
        "\n",
        "# Element-wise division\n",
        "result_divide = np.divide(array1, array2)\n",
        "print(\"Element-wise division result:\", result_divide)\n",
        "\n",
        "\n",
        "\n",
        "\n"
      ],
      "metadata": {
        "id": "cGUaR-IKFrtA",
        "colab": {
          "base_uri": "https://localhost:8080/"
        },
        "outputId": "2de256cf-3585-49d9-a3aa-d67700c730a1"
      },
      "execution_count": 3,
      "outputs": [
        {
          "output_type": "stream",
          "name": "stdout",
          "text": [
            "Element-wise multiplication result: [ 1  4  9 16 25]\n",
            "Element-wise division result: [1. 1. 1. 1. 1.]\n"
          ]
        }
      ]
    },
    {
      "cell_type": "code",
      "source": [
        "result=array1+array2\n",
        "add=f\"addition of two arrays:\\narray1+array2={result}\"\n",
        "print(add)"
      ],
      "metadata": {
        "colab": {
          "base_uri": "https://localhost:8080/"
        },
        "id": "0ezljUR-LwXo",
        "outputId": "07116835-b0e8-4924-a8c0-246050df4e81"
      },
      "execution_count": 8,
      "outputs": [
        {
          "output_type": "stream",
          "name": "stdout",
          "text": [
            "addition of two arrays:\n",
            "array1+array2=[ 2  4  6  8 10]\n"
          ]
        }
      ]
    },
    {
      "cell_type": "code",
      "source": [
        "import numpy as np\n",
        "\n",
        "# Example array\n",
        "array = np.array([1, 2, 3, 4, 5])\n",
        "\n",
        "# Calculate sin of each element in the array\n",
        "sin_result = np.sin(array)\n",
        "print(\"sin result:\", sin_result)\n",
        "\n",
        "# Calculate natural logarithm (base e) of each element in the array\n",
        "log_result = np.log(array)\n",
        "print(\"log result:\", log_result)\n",
        "\n",
        "# Calculate logarithm base 2 of each element in the array\n",
        "log2_result = np.log2(array)\n",
        "print(\"log2 result:\", log2_result)\n",
        "\n",
        "# Calculate exponential (e^x) of each element in the array\n",
        "exp_result = np.exp(array)\n",
        "print(\"exp result:\", exp_result)\n"
      ],
      "metadata": {
        "colab": {
          "base_uri": "https://localhost:8080/"
        },
        "id": "IdbPwfuDMujk",
        "outputId": "6a663730-f714-4639-82e0-dece33ed20cf"
      },
      "execution_count": 9,
      "outputs": [
        {
          "output_type": "stream",
          "name": "stdout",
          "text": [
            "sin result: [ 0.84147098  0.90929743  0.14112001 -0.7568025  -0.95892427]\n",
            "log result: [0.         0.69314718 1.09861229 1.38629436 1.60943791]\n",
            "log2 result: [0.         1.         1.5849625  2.         2.32192809]\n",
            "exp result: [  2.71828183   7.3890561   20.08553692  54.59815003 148.4131591 ]\n"
          ]
        }
      ]
    },
    {
      "cell_type": "code",
      "source": [],
      "metadata": {
        "id": "Pw0Flv1JOB6a"
      },
      "execution_count": null,
      "outputs": []
    }
  ]
}